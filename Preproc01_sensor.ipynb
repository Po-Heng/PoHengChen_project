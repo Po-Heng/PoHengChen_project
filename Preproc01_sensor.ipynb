{
 "cells": [
  {
   "cell_type": "code",
   "execution_count": 1,
   "metadata": {},
   "outputs": [],
   "source": [
    "# import libraries\n",
    "import mne, os, pickle, glob, sklearn\n",
    "import numpy as np\n",
    "import pandas as pd\n",
    "import matplotlib\n",
    "matplotlib.use('Qt5Agg')\n",
    "import matplotlib.pyplot as plt\n"
   ]
  },
  {
   "cell_type": "markdown",
   "metadata": {},
   "source": [
    "# setting"
   ]
  },
  {
   "cell_type": "code",
   "execution_count": 2,
   "metadata": {},
   "outputs": [],
   "source": [
    "# directories\n",
    "main_dir = '/Users/cl5564/Dropbox/Analysis/NTULingAmb/'\n",
    "os.chdir(main_dir) # change directory\n",
    "meg_dir = os.path.join(main_dir, '02_meg')  # meg directory\n",
    "mri_dir = os.path.join(main_dir, '03_mri')  # mri directory\n"
   ]
  },
  {
   "cell_type": "markdown",
   "metadata": {},
   "source": [
    "# load data"
   ]
  },
  {
   "cell_type": "code",
   "execution_count": 3,
   "metadata": {},
   "outputs": [
    {
     "name": "stdout",
     "output_type": "stream",
     "text": [
      "Opening raw data file /Users/cl5564/Dropbox/Analysis/NTULingAmb/02_meg/025/025-raw.fif...\n",
      "    Range : 0 ... 939999 =      0.000 ...   939.999 secs\n",
      "Ready.\n",
      "Reading 0 ... 939999  =      0.000 ...   939.999 secs...\n"
     ]
    },
    {
     "data": {
      "text/html": [
       "\n",
       "<table class=\"table table-hover\">\n",
       "    <tr>\n",
       "        <th>Measurement date</th>\n",
       "        <td>March 31, 2022  18:37:05 GMT</td>\n",
       "        \n",
       "    </tr>\n",
       "    <tr>\n",
       "        <th>Experimenter</th>\n",
       "<td>Unknown</td>\n",
       "    </tr>\n",
       "        <th>Participant</th>\n",
       "<td>Unknown</td>\n",
       "    </tr>\n",
       "    <tr>\n",
       "        <th>Digitized points</th>\n",
       "        <td>435 points</td>\n",
       "    </tr>\n",
       "    <tr>\n",
       "        <th>Good channels</th>\n",
       "        <td>157 magnetometer, 0 gradiometer,\n",
       "            and 0 EEG channels</td>\n",
       "    </tr>\n",
       "    <tr>\n",
       "        <th>Bad channels</th>\n",
       "        <td></td>\n",
       "        \n",
       "    </tr>\n",
       "    <tr>\n",
       "        <th>EOG channels</th>\n",
       "        <td>Not available</td>\n",
       "    </tr>\n",
       "    <tr>\n",
       "        <th>ECG channels</th>\n",
       "        <td>Not available</td>\n",
       "    <tr>\n",
       "        <th>Sampling frequency</th>\n",
       "        <td>1000.00 Hz</td>\n",
       "    </tr>\n",
       "    <tr>\n",
       "        <th>Highpass</th>\n",
       "        <td>0.00 Hz</td>\n",
       "    </tr>\n",
       "     <tr>\n",
       "        <th>Lowpass</th>\n",
       "        <td>100.00 Hz</td>\n",
       "    </tr>\n",
       "</table>\n"
      ],
      "text/plain": [
       "<Info | 13 non-empty values\n",
       " bads: []\n",
       " ch_names: MEG 001, MEG 002, MEG 003, MEG 004, MEG 005, MEG 006, MEG 007, ...\n",
       " chs: 157 MAG, 1 STIM\n",
       " custom_ref_applied: False\n",
       " description: Academia Sinica/Institute of Linguistics//Magnetoencephalograph ...\n",
       " dev_head_t: MEG device -> head transform\n",
       " dig: 435 items (3 Cardinal, 5 HPI, 427 Extra)\n",
       " file_id: 4 items (dict)\n",
       " highpass: 0.0 Hz\n",
       " kit_system_id: 261 (Academia Sinica, 2008-)\n",
       " lowpass: 100.0 Hz\n",
       " meas_date: 2022-03-31 18:37:05 UTC\n",
       " meas_id: 4 items (dict)\n",
       " nchan: 158\n",
       " projs: []\n",
       " sfreq: 1000.0 Hz\n",
       ">"
      ]
     },
     "execution_count": 3,
     "metadata": {},
     "output_type": "execute_result"
    }
   ],
   "source": [
    "sid = 25 # subject ID\n",
    "raw_fname = os.path.join(meg_dir, '%.3d', '%.3d-raw.fif') %(sid, sid)\n",
    "raw = mne.io.read_raw_fif(raw_fname, preload=True)\n",
    "raw.pick_types(meg=True, stim=True)\n",
    "raw.info\n",
    "#raw.plot_sensors(show_names=False)\n"
   ]
  },
  {
   "cell_type": "markdown",
   "metadata": {},
   "source": [
    "# plotting and annotating"
   ]
  },
  {
   "cell_type": "code",
   "execution_count": null,
   "metadata": {},
   "outputs": [],
   "source": [
    "# events = mne.find_events(raw, stim_channel='STI 014') # find events\n",
    "# raw.plot(events=events, event_color='orange', n_channels=70, duration=50)\n"
   ]
  },
  {
   "cell_type": "code",
   "execution_count": null,
   "metadata": {},
   "outputs": [],
   "source": [
    "# annot_fname = os.path.join(meg_dir, '%.3d', '%.3d_annot.csv') %(sid, sid)\n",
    "# print('save annotations')\n",
    "# raw.annotations.save(annot_fname)\n",
    "# print(raw.annotations)\n"
   ]
  },
  {
   "cell_type": "markdown",
   "metadata": {},
   "source": [
    "# filtering"
   ]
  },
  {
   "cell_type": "code",
   "execution_count": 5,
   "metadata": {},
   "outputs": [
    {
     "name": "stdout",
     "output_type": "stream",
     "text": [
      "Filtering raw data in 1 contiguous segment\n",
      "Setting up low-pass filter at 30 Hz\n",
      "\n",
      "FIR filter parameters\n",
      "---------------------\n",
      "Designing a two-pass forward and reverse, zero-phase, non-causal lowpass filter:\n",
      "- Windowed time-domain design (firwin) method\n",
      "- Hamming window with 0.0194 passband ripple and 53 dB stopband attenuation\n",
      "- Upper passband edge: 30.00 Hz\n",
      "- Upper transition bandwidth: 7.50 Hz (-12 dB cutoff frequency: 33.75 Hz)\n",
      "- Filter length: 441 samples (0.441 sec)\n",
      "\n",
      "384 events found\n",
      "Event IDs: [  1   2   4   8  32 128]\n",
      "Effective window size : 2.048 (s)\n",
      "Channels marked as bad: none\n"
     ]
    },
    {
     "data": {
      "text/plain": [
       "<MNEBrowseFigure size 5120x2604 with 4 Axes>"
      ]
     },
     "execution_count": 5,
     "metadata": {},
     "output_type": "execute_result"
    },
    {
     "name": "stdout",
     "output_type": "stream",
     "text": [
      "Channels marked as bad: none\n"
     ]
    }
   ],
   "source": [
    "# bad channels\n",
    "if sid == 18 or sid == 20:\n",
    "    bads = ['MEG 033','MEG 037','MEG 034', 'MEG 035','MEG 039'] \n",
    "else:\n",
    "    bads = []\n",
    "\n",
    "# filtering\n",
    "raw_filt = raw.filter(0, 30, phase='zero-double')\n",
    "\n",
    "# update bad channel info\n",
    "raw_filt.info['bads'] = bads\n",
    "\n",
    "# plotting data\n",
    "events = mne.find_events(raw, stim_channel='STI 014') # find events\n",
    "raw_filt.plot_psd(fmax=50)\n",
    "raw_filt.plot(events=events, event_color='orange', n_channels=70, duration=50)\n"
   ]
  },
  {
   "cell_type": "markdown",
   "metadata": {},
   "source": [
    "# annotating movement artifacts as bad spans"
   ]
  },
  {
   "cell_type": "markdown",
   "metadata": {},
   "source": [
    "annotating bad spans of data with movement artifacts before ICA <br>\n",
    "https://mne.tools/stable/auto_tutorials/raw/30_annotate_raw.html"
   ]
  },
  {
   "cell_type": "code",
   "execution_count": 6,
   "metadata": {},
   "outputs": [
    {
     "name": "stdout",
     "output_type": "stream",
     "text": [
      "read annotations\n",
      "<Annotations | 2 segments: BAD_ (2)>\n"
     ]
    }
   ],
   "source": [
    "annot_fname = os.path.join(meg_dir, '%.3d', '%.3d_annot.csv') %(sid, sid)\n",
    "\n",
    "if os.path.exists(annot_fname):\n",
    "    print('read annotations')\n",
    "    annot_badspan = mne.read_annotations(annot_fname)\n",
    "    raw_filt.set_annotations(annot_badspan, emit_warning=False)\n",
    "    print(raw_filt.annotations)\n",
    "else:\n",
    "    print('no annotation file!')\n",
    "    "
   ]
  },
  {
   "cell_type": "markdown",
   "metadata": {},
   "source": [
    "# epoching (before ICA)"
   ]
  },
  {
   "cell_type": "code",
   "execution_count": 7,
   "metadata": {},
   "outputs": [
    {
     "name": "stdout",
     "output_type": "stream",
     "text": [
      "384 events found\n",
      "Event IDs: [  1   2   4   8  32 128]\n",
      "(128, 3)\n",
      "Not setting metadata\n",
      "Not setting metadata\n",
      "128 matching events found\n",
      "Setting baseline interval to [-0.1, 0.0] sec\n",
      "Applying baseline correction (mode: mean)\n",
      "0 projection items activated\n",
      "Loading data for 128 events and 1101 original time points ...\n",
      "    Rejecting  epoch based on MAG : ['MEG 029', 'MEG 047', 'MEG 055', 'MEG 092', 'MEG 136', 'MEG 138', 'MEG 139', 'MEG 140', 'MEG 142']\n",
      "    Rejecting  epoch based on MAG : ['MEG 055', 'MEG 092', 'MEG 140', 'MEG 142']\n",
      "2 bad epochs dropped\n"
     ]
    }
   ],
   "source": [
    "# define variables\n",
    "if sid > 20: \n",
    "    event_id = {'ambiguous-dominant/193': 2, 'ambiguous-dominant/195': 8,\n",
    "                'ambiguous-subordinate/194': 1, 'ambiguous-subordinate/192': 4,\n",
    "                'unambiguous/197': 32, 'unambiguous/199': 128}\n",
    "else:\n",
    "    event_id = {'ambiguous-dominant/193': 193, 'ambiguous-dominant/195': 195,\n",
    "                'ambiguous-subordinate/194': 194, 'ambiguous-subordinate/192': 192,\n",
    "                'unambiguous/197': 197, 'unambiguous/199': 199}\n",
    "\n",
    "tmin = -0.1\n",
    "tmax = 1.0\n",
    "baseline = (None, 0)  # tmin~0 , -0.1s~0s # none = start from tmin.\n",
    "picks = mne.pick_types(raw_filt.info, meg=True, stim=False)\n",
    "events = mne.find_events(raw_filt, stim_channel='STI 014') # find events\n",
    "\n",
    "# selected events\n",
    "events = events[range(1, 383, 3)]\n",
    "print(events.shape)\n",
    "\n",
    "# Rejection parameters based on peak-to-peak amplitude.\n",
    "# diff chans (meg/grad) have diff criteria. Check before use.\n",
    "reject = dict(mag=3e-12) # T (magnetometers)\n",
    "\n",
    "# epoching\n",
    "epochs = mne.Epochs(raw_filt, events=events, event_id=event_id,\n",
    "                    tmin=tmin, tmax=tmax, baseline=baseline,\n",
    "                    picks=picks, reject=reject, preload=True)\n"
   ]
  },
  {
   "cell_type": "code",
   "execution_count": 8,
   "metadata": {},
   "outputs": [
    {
     "name": "stdout",
     "output_type": "stream",
     "text": [
      "((), (), (), (), (), (), (), (), (), (), (), (), (), (), (), (), (), (), (), (), (), (), (), (), (), (), (), (), ('MEG 029', 'MEG 047', 'MEG 055', 'MEG 092', 'MEG 136', 'MEG 138', 'MEG 139', 'MEG 140', 'MEG 142'), (), (), ('MEG 055', 'MEG 092', 'MEG 140', 'MEG 142'), (), (), (), (), (), (), (), (), (), (), (), (), (), (), (), (), (), (), (), (), (), (), (), (), (), (), (), (), (), (), (), (), (), (), (), (), (), (), (), (), (), (), (), (), (), (), (), (), (), (), (), (), (), (), (), (), (), (), (), (), (), (), (), (), (), (), (), (), (), (), (), (), (), (), (), (), (), (), (), (), (), (), (), (), (), (), (), (), (), (), (), (), (), (), (), ())\n"
     ]
    },
    {
     "data": {
      "text/html": [
       "\n",
       "<table class=\"table table-hover\">\n",
       "    <tr>\n",
       "        <th>Number of events</th>\n",
       "        <td>126</td>\n",
       "    </tr>\n",
       "    <tr>\n",
       "        <th>Events</th>\n",
       "        <td>ambiguous-dominant/193: 16<br>ambiguous-dominant/195: 16<br>ambiguous-subordinate/192: 16<br>ambiguous-subordinate/194: 15<br>unambiguous/197: 32<br>unambiguous/199: 31<br></td>\n",
       "    </tr>\n",
       "    <tr>\n",
       "        <th>Time range</th>\n",
       "        <td>-0.100 – 1.000 sec</td>\n",
       "    </tr>\n",
       "    <tr>\n",
       "        <th>Baseline</th>\n",
       "        <td>-0.100 – 0.000 sec</td>\n",
       "    </tr>\n",
       "</table>\n"
      ],
      "text/plain": [
       "<Epochs |  126 events (all good), -0.1 - 1 sec, baseline -0.1 – 0 sec, ~166.5 MB, data loaded,\n",
       " 'ambiguous-dominant/193': 16\n",
       " 'ambiguous-dominant/195': 16\n",
       " 'ambiguous-subordinate/192': 16\n",
       " 'ambiguous-subordinate/194': 15\n",
       " 'unambiguous/197': 32\n",
       " 'unambiguous/199': 31>"
      ]
     },
     "execution_count": 8,
     "metadata": {},
     "output_type": "execute_result"
    }
   ],
   "source": [
    "print(epochs.drop_log) #check which trials rejected.\n",
    "epochs"
   ]
  },
  {
   "cell_type": "markdown",
   "metadata": {},
   "source": [
    "# ICA"
   ]
  },
  {
   "cell_type": "code",
   "execution_count": 9,
   "metadata": {},
   "outputs": [
    {
     "name": "stdout",
     "output_type": "stream",
     "text": [
      "Fitting ICA to data using 157 channels (please be patient, this may take a while)\n",
      "Omitting 126089 of 940000 (13.41%) samples, retaining 813911 (86.59%) samples.\n"
     ]
    },
    {
     "name": "stderr",
     "output_type": "stream",
     "text": [
      "<ipython-input-9-317117d5c3e0>:1: DeprecationWarning: Version 0.23 introduced max_iter=\"auto\", setting max_iter=1000 for `fastica` and max_iter=500 for `infomax` and `picard`. The current default of max_iter=200 will be changed to \"auto\" in version 0.24.\n",
      "  ica = mne.preprocessing.ICA(n_components=15, random_state=97) #max_iter=800\n",
      "<ipython-input-9-317117d5c3e0>:2: RuntimeWarning: The data has not been high-pass filtered. For good ICA performance, it should be high-pass filtered (e.g., with a 1.0 Hz lower bound) before fitting ICA.\n",
      "  ica.fit(raw_filt, reject_by_annotation=True)\n"
     ]
    },
    {
     "name": "stdout",
     "output_type": "stream",
     "text": [
      "Selecting by number: 15 components\n",
      "Fitting ICA took 26.9s.\n",
      "Creating RawArray with float64 data, n_channels=15, n_times=940000\n",
      "    Range : 0 ... 939999 =      0.000 ...   939.999 secs\n",
      "Ready.\n",
      "Channels marked as bad: none\n"
     ]
    },
    {
     "data": {
      "text/plain": [
       "[<MNEFigure size 1950x1462 with 15 Axes>]"
      ]
     },
     "execution_count": 9,
     "metadata": {},
     "output_type": "execute_result"
    }
   ],
   "source": [
    "ica = mne.preprocessing.ICA(n_components=15, random_state=97) #max_iter=800\n",
    "ica.fit(raw_filt, reject_by_annotation=True)\n",
    "ica.plot_sources(raw_filt)\n",
    "ica.plot_components()\n"
   ]
  },
  {
   "cell_type": "code",
   "execution_count": 10,
   "metadata": {},
   "outputs": [
    {
     "name": "stdout",
     "output_type": "stream",
     "text": [
      "[3, 7]\n",
      "Applying ICA to Evoked instance\n",
      "    Transforming to ICA space (15 components)\n",
      "    Zeroing out 2 ICA components\n",
      "    Projecting back using 157 PCA components\n"
     ]
    },
    {
     "name": "stderr",
     "output_type": "stream",
     "text": [
      "<ipython-input-10-0a5d6990070a>:2: RuntimeWarning: The data you passed to ICA.apply() was baseline-corrected. Please note that ICA can introduce DC shifts, therefore you may wish to consider baseline-correcting the cleaned data again.\n",
      "  ica.plot_overlay(epochs.average(), exclude=ica.exclude)\n"
     ]
    },
    {
     "data": {
      "text/plain": [
       "<Figure size 1280x960 with 1 Axes>"
      ]
     },
     "execution_count": 10,
     "metadata": {},
     "output_type": "execute_result"
    }
   ],
   "source": [
    "print(ica.exclude)\n",
    "ica.plot_overlay(epochs.average(), exclude=ica.exclude)\n"
   ]
  },
  {
   "cell_type": "code",
   "execution_count": 11,
   "metadata": {},
   "outputs": [
    {
     "name": "stdout",
     "output_type": "stream",
     "text": [
      "Writing ICA solution to /Users/cl5564/Dropbox/Analysis/NTULingAmb/02_meg/025/025-ica.fif...\n",
      "Applying ICA to Raw instance\n",
      "    Transforming to ICA space (15 components)\n",
      "    Zeroing out 2 ICA components\n",
      "    Projecting back using 157 PCA components\n",
      "Overwriting existing file.\n",
      "Writing /Users/cl5564/Dropbox/Analysis/NTULingAmb/02_meg/025/025_ICA-raw.fif\n",
      "Closing /Users/cl5564/Dropbox/Analysis/NTULingAmb/02_meg/025/025_ICA-raw.fif\n",
      "[done]\n"
     ]
    }
   ],
   "source": [
    "# save ica file\n",
    "ica_fname = os.path.join(meg_dir, '%.3d', '%.3d-ica.fif') %(sid, sid)\n",
    "ica.save(ica_fname)\n",
    "#mne.preprocessing.read_ica(ica_fname)\n",
    "\n",
    "# save raw file after removing ica\n",
    "raw_ica_fname = os.path.join(meg_dir, '%.3d', '%.3d_ICA-raw.fif') %(sid, sid)\n",
    "raw_filt_ica = ica.apply(raw_filt, exclude=ica.exclude)\n",
    "raw_filt_ica.save(raw_ica_fname, overwrite=True)\n"
   ]
  },
  {
   "cell_type": "markdown",
   "metadata": {},
   "source": [
    "# epoching (after ICA)"
   ]
  },
  {
   "cell_type": "code",
   "execution_count": 12,
   "metadata": {},
   "outputs": [
    {
     "name": "stdout",
     "output_type": "stream",
     "text": [
      "384 events found\n",
      "Event IDs: [  1   2   4   8  32 128]\n",
      "(128, 3)\n",
      "Not setting metadata\n",
      "Not setting metadata\n",
      "128 matching events found\n",
      "Setting baseline interval to [-0.1, 0.0] sec\n",
      "Applying baseline correction (mode: mean)\n",
      "0 projection items activated\n",
      "Loading data for 128 events and 1101 original time points ...\n",
      "    Rejecting  epoch based on MAG : ['MEG 029', 'MEG 047', 'MEG 055', 'MEG 092', 'MEG 136', 'MEG 138', 'MEG 139', 'MEG 140', 'MEG 142']\n",
      "    Rejecting  epoch based on MAG : ['MEG 055', 'MEG 092', 'MEG 140', 'MEG 142']\n",
      "2 bad epochs dropped\n",
      "Overwriting existing file.\n"
     ]
    }
   ],
   "source": [
    "# define variables\n",
    "if sid > 20: \n",
    "    event_id = {'ambiguous-dominant/193': 2, 'ambiguous-dominant/195': 8,\n",
    "                'ambiguous-subordinate/194': 1, 'ambiguous-subordinate/192': 4,\n",
    "                'unambiguous/197': 32, 'unambiguous/199': 128}\n",
    "else:\n",
    "    event_id = {'ambiguous-dominant/193': 193, 'ambiguous-dominant/195': 195,\n",
    "                'ambiguous-subordinate/194': 194, 'ambiguous-subordinate/192': 192,\n",
    "                'unambiguous/197': 197, 'unambiguous/199': 199}\n",
    "\n",
    "tmin = -0.1\n",
    "tmax = 1.0\n",
    "baseline = (None, 0)  # tmin~0 , -0.1s~0s # none = start from tmin.\n",
    "picks = mne.pick_types(raw_filt.info, meg=True, stim=False)\n",
    "events = mne.find_events(raw_filt, stim_channel='STI 014') # find events\n",
    "\n",
    "# selected events\n",
    "events = events[range(1, 383, 3)]\n",
    "print(events.shape)\n",
    "\n",
    "# Rejection parameters based on peak-to-peak amplitude.\n",
    "# diff chans (meg/grad) have diff criteria. Check before use.\n",
    "reject = dict(mag=3e-12) # T (magnetometers)\n",
    "\n",
    "# epoching\n",
    "decim = 1 # 1 for no decimation (downsampling)\n",
    "epochs = mne.Epochs(raw_filt_ica, events=events, event_id=event_id,\n",
    "                    tmin=tmin, tmax=tmax, baseline=baseline, decim=decim,\n",
    "                    picks=picks, reject=reject, preload=True)\n",
    "\n",
    "# save epochs\n",
    "epochs_fname = os.path.join(meg_dir, '%.3d', '%.3d-epo.fif') %(sid, sid)\n",
    "epochs.save(epochs_fname, overwrite=True)\n"
   ]
  },
  {
   "cell_type": "markdown",
   "metadata": {},
   "source": [
    "# evoked responses"
   ]
  },
  {
   "cell_type": "code",
   "execution_count": 13,
   "metadata": {},
   "outputs": [
    {
     "name": "stdout",
     "output_type": "stream",
     "text": [
      "<Evoked | 'ambiguous (dominant biasing)' (average, N=32), -0.1 – 1 sec, baseline -0.1 – 0 sec, 157 ch, ~1.6 MB>\n",
      "<Evoked | 'ambiguous (subordinate biasing)' (average, N=31), -0.1 – 1 sec, baseline -0.1 – 0 sec, 157 ch, ~1.6 MB>\n",
      "<Evoked | 'unambiguous' (average, N=63), -0.1 – 1 sec, baseline -0.1 – 0 sec, 157 ch, ~1.6 MB>\n"
     ]
    }
   ],
   "source": [
    "# evoked responses for each condition\n",
    "evoked_amb_dom = epochs['ambiguous-dominant'].average()\n",
    "evoked_amb_dom.comment = 'ambiguous (dominant biasing)'\n",
    "\n",
    "evoked_amb_sub = epochs['ambiguous-subordinate'].average()\n",
    "evoked_amb_sub.comment = 'ambiguous (subordinate biasing)'\n",
    "\n",
    "evoked_unamb = epochs['unambiguous'].average()\n",
    "evoked_unamb.comment = 'unambiguous'\n",
    "\n",
    "print(evoked_amb_dom)\n",
    "print(evoked_amb_sub)\n",
    "print(evoked_unamb)\n",
    "\n",
    "# save evoked responses\n",
    "evoked_fname = os.path.join(meg_dir, '%.3d', '%.3d_ambiguity-ave.fif') %(sid, sid)\n",
    "mne.write_evokeds(evoked_fname, [evoked_amb_dom, evoked_amb_sub, evoked_unamb])\n"
   ]
  },
  {
   "cell_type": "markdown",
   "metadata": {},
   "source": [
    "# plotting ERF at each sensor"
   ]
  },
  {
   "cell_type": "code",
   "execution_count": null,
   "metadata": {},
   "outputs": [],
   "source": [
    "evoked_conds = [evoked_amb_dom, evoked_amb_sub, evoked_unamb]\n",
    "colors = 'red', 'blue', 'green'\n",
    "mne.viz.plot_evoked_topo(evoked_conds, color=colors)\n"
   ]
  },
  {
   "cell_type": "markdown",
   "metadata": {},
   "source": [
    "# butterfly plots for each condition"
   ]
  },
  {
   "cell_type": "code",
   "execution_count": 14,
   "metadata": {},
   "outputs": [
    {
     "name": "stdout",
     "output_type": "stream",
     "text": [
      "No projector specified for this dataset. Please consider the method self.add_proj.\n",
      "No projector specified for this dataset. Please consider the method self.add_proj.\n",
      "No projector specified for this dataset. Please consider the method self.add_proj.\n"
     ]
    }
   ],
   "source": [
    "# make directory for saving figures\n",
    "evoked_dir = os.path.join(meg_dir, '%.3d', 'evoked') %(sid)\n",
    "if not os.path.exists(evoked_dir):\n",
    "    os.makedirs(evoked_dir)\n",
    "\n",
    "evoked_conds = ['evoked_amb_dom', 'evoked_amb_sub', 'evoked_unamb']\n",
    "for evk_name in evoked_conds:\n",
    "    evoked_fname = os.path.join(evoked_dir, '%.3d_%s.png') %(sid, evk_name)\n",
    "    evoked_temp = eval(evk_name)\n",
    "    evoked_plot = evoked_temp.plot_joint(\n",
    "        ts_args = dict(gfp=True, ylim=dict(mag=[-350, 350]), time_unit='ms'),\n",
    "        topomap_args = dict(vmin=-200, vmax=200, time_unit='ms'),\n",
    "        title = 'Magnetometers (157 channels) \\n %s'%(evoked_temp.comment), show = False)\n",
    "    \n",
    "    evoked_plot.savefig(evoked_fname)\n",
    "\n",
    "plt.close('all')\n"
   ]
  },
  {
   "cell_type": "code",
   "execution_count": null,
   "metadata": {},
   "outputs": [],
   "source": []
  }
 ],
 "metadata": {
  "kernelspec": {
   "display_name": "Python 3",
   "language": "python",
   "name": "python3"
  },
  "language_info": {
   "codemirror_mode": {
    "name": "ipython",
    "version": 3
   },
   "file_extension": ".py",
   "mimetype": "text/x-python",
   "name": "python",
   "nbconvert_exporter": "python",
   "pygments_lexer": "ipython3",
   "version": "3.9.2"
  },
  "varInspector": {
   "cols": {
    "lenName": 16,
    "lenType": 16,
    "lenVar": 40
   },
   "kernels_config": {
    "python": {
     "delete_cmd_postfix": "",
     "delete_cmd_prefix": "del ",
     "library": "var_list.py",
     "varRefreshCmd": "print(var_dic_list())"
    },
    "r": {
     "delete_cmd_postfix": ") ",
     "delete_cmd_prefix": "rm(",
     "library": "var_list.r",
     "varRefreshCmd": "cat(var_dic_list()) "
    }
   },
   "types_to_exclude": [
    "module",
    "function",
    "builtin_function_or_method",
    "instance",
    "_Feature"
   ],
   "window_display": false
  }
 },
 "nbformat": 4,
 "nbformat_minor": 4
}
