{
 "cells": [
  {
   "attachments": {},
   "cell_type": "markdown",
   "metadata": {},
   "source": [
    "## Grand averaging"
   ]
  },
  {
   "cell_type": "code",
   "execution_count": 1,
   "metadata": {},
   "outputs": [],
   "source": [
    "import mne\n",
    "import numpy as np\n",
    "\n",
    "data_path = \"/Users/pohengchen/SynologyDrive/NTU_Projects/Ambiguity_2words_MEG/NTULingAmb/head/\" #頭型資料放的directory.\n",
    "raw_path = \"/Users/pohengchen/SynologyDrive/NTU_Projects/Ambiguity_2words_MEG/NTULingAmb/04_stc/\"   #evoked資料和頭型資料下載好一起放的directory.\n",
    "# subject = 'sub%.d'%sid   #這是頭型資料夾的名稱（sub1,sub2...etc,覺得比較方便所以我把它在這裡先定義好），除非改了folder名，不然不用動。\n",
    "\n",
    "subjects_dir = data_path"
   ]
  },
  {
   "cell_type": "code",
   "execution_count": 2,
   "metadata": {},
   "outputs": [],
   "source": [
    "# grand averaging\n",
    "sids = [1,2,3,4,5,6,7,8,9,10,11,12,13,14,15,16,17,19,21,22,23,24,25]\n",
    "\n",
    "stcs1 = [mne.read_source_estimate(raw_path + ('amb_dom/%.3d_stc_amb_dom'%(s)), subject='fsaverage') for s in sids]\n",
    "data1 = np.average([s.data for s in stcs1], axis=0)\n",
    "stc1 = mne.SourceEstimate(data1, stcs1[0].vertices,\n",
    "                               stcs1[0].tmin, stcs1[0].tstep, stcs1[0].subject)\n",
    "#stc1.save('/Users/pohengchen/SynologyDrive/NTU_Projects/Ambiguity_2words_MEG/NTULingAmb/06_grandavg_source/grandavg_stc_amb_dom')\n",
    "\n",
    "\n",
    "stcs2 = [mne.read_source_estimate(raw_path + ('amb_sub/%.3d_stc_amb_sub'%(s)), subject='fsaverage') for s in sids]\n",
    "data2 = np.average([s.data for s in stcs2], axis=0)\n",
    "stc2 = mne.SourceEstimate(data2, stcs2[0].vertices,\n",
    "                               stcs2[0].tmin, stcs2[0].tstep, stcs2[0].subject)\n",
    "#stc2.save('/Users/pohengchen/SynologyDrive/NTU_Projects/Ambiguity_2words_MEG/NTULingAmb/06_grandavg_source/grandavg_stc_amb_sub')\n",
    "\n",
    "\n",
    "stcs3 = [mne.read_source_estimate(raw_path + ('unamb/%.3d_stc_unamb'%(s)), subject='fsaverage') for s in sids]\n",
    "data3 = np.average([s.data for s in stcs3], axis=0)\n",
    "stc3 = mne.SourceEstimate(data3, stcs3[0].vertices,\n",
    "                               stcs3[0].tmin, stcs3[0].tstep, stcs3[0].subject)\n",
    "#stc3.save('/Users/pohengchen/SynologyDrive/NTU_Projects/Ambiguity_2words_MEG/NTULingAmb/06_grandavg_source/grandavg_stc_unamb')"
   ]
  },
  {
   "cell_type": "code",
   "execution_count": 3,
   "metadata": {},
   "outputs": [
    {
     "name": "stdout",
     "output_type": "stream",
     "text": [
      "Using pyvistaqt 3d backend.\n",
      "\n",
      "Using control points [ 9.59993576 10.25607097 16.3040179 ]\n"
     ]
    },
    {
     "name": "stderr",
     "output_type": "stream",
     "text": [
      "2023-06-11 19:05:07.869 python[5268:10142396] _TIPropertyValueIsValid called with 4 on nil context!\n",
      "2023-06-11 19:05:07.869 python[5268:10142396] imkxpc_getApplicationProperty:reply: called with incorrect property value 4, bailing.\n",
      "2023-06-11 19:05:07.869 python[5268:10142396] Text input context does not respond to _valueForTIProperty:\n",
      "2023-06-11 19:05:07.904 python[5268:10142396] _TIPropertyValueIsValid called with 4 on nil context!\n",
      "2023-06-11 19:05:07.904 python[5268:10142396] imkxpc_getApplicationProperty:reply: called with incorrect property value 4, bailing.\n",
      "2023-06-11 19:05:07.904 python[5268:10142396] Text input context does not respond to _valueForTIProperty:\n",
      "2023-06-11 19:05:07.905 python[5268:10142396] _TIPropertyValueIsValid called with 4 on nil context!\n",
      "2023-06-11 19:05:07.905 python[5268:10142396] imkxpc_getApplicationProperty:reply: called with incorrect property value 4, bailing.\n",
      "2023-06-11 19:05:07.905 python[5268:10142396] Text input context does not respond to _valueForTIProperty:\n",
      "qt.qpa.fonts: Populating font family aliases took 195 ms. Replace uses of missing font family \"Menlo\" with one that exists to avoid this cost. \n"
     ]
    },
    {
     "name": "stderr",
     "output_type": "stream",
     "text": [
      "2023-06-11 19:06:11.164 python[5268:10142396] _TIPropertyValueIsValid called with 4 on nil context!\n",
      "2023-06-11 19:06:11.164 python[5268:10142396] imkxpc_getApplicationProperty:reply: called with incorrect property value 4, bailing.\n",
      "2023-06-11 19:06:11.165 python[5268:10142396] Text input context does not respond to _valueForTIProperty:\n",
      "2023-06-11 19:06:11.167 python[5268:10142396] _TIPropertyValueIsValid called with 4 on nil context!\n",
      "2023-06-11 19:06:11.167 python[5268:10142396] imkxpc_getApplicationProperty:reply: called with incorrect property value 4, bailing.\n",
      "2023-06-11 19:06:11.167 python[5268:10142396] Text input context does not respond to _valueForTIProperty:\n",
      "2023-06-11 19:07:55.204 python[5268:10142396] _TIPropertyValueIsValid called with 4 on nil context!\n",
      "2023-06-11 19:07:55.204 python[5268:10142396] imkxpc_getApplicationProperty:reply: called with incorrect property value 4, bailing.\n",
      "2023-06-11 19:07:55.204 python[5268:10142396] Text input context does not respond to _valueForTIProperty:\n",
      "2023-06-11 19:07:55.208 python[5268:10142396] _TIPropertyValueIsValid called with 4 on nil context!\n",
      "2023-06-11 19:07:55.208 python[5268:10142396] imkxpc_getApplicationProperty:reply: called with incorrect property value 4, bailing.\n",
      "2023-06-11 19:07:55.208 python[5268:10142396] Text input context does not respond to _valueForTIProperty:\n"
     ]
    }
   ],
   "source": [
    "#plot amb_dom.\n",
    "kwargs = dict(initial_time=0.25, hemi='both', subjects_dir=subjects_dir,\n",
    "              size=(600, 600), time_viewer=True)\n",
    "brain = stc1.plot(figure=6, **kwargs)\n",
    "brain.add_text(0.1, 0.9, 'dSPM', 'title', font_size=14)\n",
    "#11,12,16.5"
   ]
  },
  {
   "cell_type": "code",
   "execution_count": 4,
   "metadata": {},
   "outputs": [
    {
     "name": "stdout",
     "output_type": "stream",
     "text": [
      "Using control points [ 9.61832558 10.3142822  16.55635779]\n"
     ]
    },
    {
     "name": "stderr",
     "output_type": "stream",
     "text": [
      "2023-06-11 19:08:02.550 python[5268:10142396] _TIPropertyValueIsValid called with 4 on nil context!\n",
      "2023-06-11 19:08:02.550 python[5268:10142396] imkxpc_getApplicationProperty:reply: called with incorrect property value 4, bailing.\n",
      "2023-06-11 19:08:02.551 python[5268:10142396] Text input context does not respond to _valueForTIProperty:\n"
     ]
    },
    {
     "name": "stderr",
     "output_type": "stream",
     "text": [
      "2023-06-11 19:08:20.053 python[5268:10142396] _TIPropertyValueIsValid called with 4 on nil context!\n",
      "2023-06-11 19:08:20.053 python[5268:10142396] imkxpc_getApplicationProperty:reply: called with incorrect property value 4, bailing.\n",
      "2023-06-11 19:08:20.053 python[5268:10142396] Text input context does not respond to _valueForTIProperty:\n",
      "2023-06-11 19:08:20.054 python[5268:10142396] _TIPropertyValueIsValid called with 4 on nil context!\n",
      "2023-06-11 19:08:20.054 python[5268:10142396] imkxpc_getApplicationProperty:reply: called with incorrect property value 4, bailing.\n",
      "2023-06-11 19:08:20.055 python[5268:10142396] Text input context does not respond to _valueForTIProperty:\n",
      "2023-06-11 19:08:22.704 python[5268:10142396] _TIPropertyValueIsValid called with 4 on nil context!\n",
      "2023-06-11 19:08:22.704 python[5268:10142396] imkxpc_getApplicationProperty:reply: called with incorrect property value 4, bailing.\n",
      "2023-06-11 19:08:22.704 python[5268:10142396] Text input context does not respond to _valueForTIProperty:\n",
      "2023-06-11 19:08:22.707 python[5268:10142396] _TIPropertyValueIsValid called with 4 on nil context!\n",
      "2023-06-11 19:08:22.707 python[5268:10142396] imkxpc_getApplicationProperty:reply: called with incorrect property value 4, bailing.\n",
      "2023-06-11 19:08:22.707 python[5268:10142396] Text input context does not respond to _valueForTIProperty:\n"
     ]
    }
   ],
   "source": [
    "#plot amb_sub.\n",
    "kwargs = dict(initial_time=0.25, hemi='both', subjects_dir=subjects_dir,\n",
    "              size=(600, 600), time_viewer=True)\n",
    "brain = stc2.plot(figure=6, **kwargs)\n",
    "brain.add_text(0.1, 0.9, 'dSPM', 'title', font_size=14)\n",
    "#10/11/17.5"
   ]
  },
  {
   "cell_type": "code",
   "execution_count": 5,
   "metadata": {},
   "outputs": [
    {
     "name": "stdout",
     "output_type": "stream",
     "text": [
      "Using control points [12.79395962 13.73188679 23.24724226]\n"
     ]
    },
    {
     "name": "stderr",
     "output_type": "stream",
     "text": [
      "2023-06-11 19:08:32.320 python[5268:10142396] _TIPropertyValueIsValid called with 4 on nil context!\n",
      "2023-06-11 19:08:32.320 python[5268:10142396] imkxpc_getApplicationProperty:reply: called with incorrect property value 4, bailing.\n",
      "2023-06-11 19:08:32.320 python[5268:10142396] Text input context does not respond to _valueForTIProperty:\n"
     ]
    },
    {
     "name": "stderr",
     "output_type": "stream",
     "text": [
      "2023-06-11 19:08:44.910 python[5268:10142396] _TIPropertyValueIsValid called with 4 on nil context!\n",
      "2023-06-11 19:08:44.911 python[5268:10142396] imkxpc_getApplicationProperty:reply: called with incorrect property value 4, bailing.\n",
      "2023-06-11 19:08:44.911 python[5268:10142396] Text input context does not respond to _valueForTIProperty:\n",
      "2023-06-11 19:08:44.912 python[5268:10142396] _TIPropertyValueIsValid called with 4 on nil context!\n",
      "2023-06-11 19:08:44.912 python[5268:10142396] imkxpc_getApplicationProperty:reply: called with incorrect property value 4, bailing.\n",
      "2023-06-11 19:08:44.913 python[5268:10142396] Text input context does not respond to _valueForTIProperty:\n",
      "2023-06-11 19:08:49.258 python[5268:10142396] _TIPropertyValueIsValid called with 4 on nil context!\n",
      "2023-06-11 19:08:49.258 python[5268:10142396] imkxpc_getApplicationProperty:reply: called with incorrect property value 4, bailing.\n",
      "2023-06-11 19:08:49.258 python[5268:10142396] Text input context does not respond to _valueForTIProperty:\n",
      "2023-06-11 19:08:49.259 python[5268:10142396] _TIPropertyValueIsValid called with 4 on nil context!\n",
      "2023-06-11 19:08:49.259 python[5268:10142396] imkxpc_getApplicationProperty:reply: called with incorrect property value 4, bailing.\n",
      "2023-06-11 19:08:49.259 python[5268:10142396] Text input context does not respond to _valueForTIProperty:\n"
     ]
    }
   ],
   "source": [
    "#plot unamb.\n",
    "kwargs = dict(initial_time=0.25, hemi='both', subjects_dir=subjects_dir,\n",
    "              size=(600, 600), time_viewer=True)\n",
    "brain = stc3.plot(figure=6, **kwargs)\n",
    "brain.add_text(0.1, 0.9, 'dSPM', 'title', font_size=14)\n",
    "#13,14,23"
   ]
  },
  {
   "cell_type": "code",
   "execution_count": null,
   "metadata": {},
   "outputs": [],
   "source": [
    "#plot one cond - the other."
   ]
  },
  {
   "cell_type": "code",
   "execution_count": 6,
   "metadata": {},
   "outputs": [],
   "source": [
    "#dom - sub\n",
    "data_list = []\n",
    "for i in range (23):\n",
    "        a = stcs1[i].data - stcs2[i].data\n",
    "        data_list.append(a)\n",
    "data12 = np.average([s for s in data_list], axis=0)\n",
    "stc12 = mne.SourceEstimate(data12, stcs1[0].vertices,\n",
    "                               stcs1[0].tmin, stcs1[0].tstep, stcs1[0].subject)\n",
    "#2/3/5"
   ]
  },
  {
   "cell_type": "code",
   "execution_count": 7,
   "metadata": {},
   "outputs": [],
   "source": [
    "#dom - unamb\n",
    "data_list = []\n",
    "for i in range (23):\n",
    "        a = stcs1[i].data - stcs3[i].data\n",
    "        data_list.append(a)\n",
    "data13 = np.average([s for s in data_list], axis=0)\n",
    "stc13 = mne.SourceEstimate(data13, stcs1[0].vertices,\n",
    "                               stcs1[0].tmin, stcs1[0].tstep, stcs1[0].subject)\n",
    "#4.5/5/9"
   ]
  },
  {
   "cell_type": "code",
   "execution_count": 8,
   "metadata": {},
   "outputs": [],
   "source": [
    "#sub - unamb\n",
    "data_list = []\n",
    "for i in range (23):\n",
    "        a = stcs2[i].data - stcs3[i].data\n",
    "        data_list.append(a)\n",
    "data23 = np.average([s for s in data_list], axis=0)\n",
    "stc23 = mne.SourceEstimate(data23, stcs2[0].vertices,\n",
    "                               stcs2[0].tmin, stcs2[0].tstep, stcs2[0].subject)\n",
    "#4.5/5/8"
   ]
  },
  {
   "cell_type": "code",
   "execution_count": null,
   "metadata": {},
   "outputs": [],
   "source": [
    "stc12.save('/Users/pohengchen/SynologyDrive/NTU_Projects/Ambiguity_2words_MEG/NTULingAmb/06_grandavg_source/grandavg_stc_dom-sub')\n",
    "stc13.save('/Users/pohengchen/SynologyDrive/NTU_Projects/Ambiguity_2words_MEG/NTULingAmb/06_grandavg_source/grandavg_stc_dom-unamb')\n",
    "stc23.save('/Users/pohengchen/SynologyDrive/NTU_Projects/Ambiguity_2words_MEG/NTULingAmb/06_grandavg_source/grandavg_stc_sub-unamb')"
   ]
  },
  {
   "cell_type": "code",
   "execution_count": 10,
   "metadata": {},
   "outputs": [
    {
     "name": "stdout",
     "output_type": "stream",
     "text": [
      "Using control points [1.35619426 1.51141776 2.65386587]\n"
     ]
    },
    {
     "name": "stderr",
     "output_type": "stream",
     "text": [
      "2023-06-11 19:34:38.191 python[5268:10142396] _TIPropertyValueIsValid called with 4 on nil context!\n",
      "2023-06-11 19:34:38.191 python[5268:10142396] imkxpc_getApplicationProperty:reply: called with incorrect property value 4, bailing.\n",
      "2023-06-11 19:34:38.191 python[5268:10142396] Text input context does not respond to _valueForTIProperty:\n"
     ]
    },
    {
     "name": "stdout",
     "output_type": "stream",
     "text": [
      "Using control points [1.36796365 1.50874558 2.57894917]\n"
     ]
    },
    {
     "name": "stderr",
     "output_type": "stream",
     "text": [
      "2023-06-11 19:40:36.182 python[5268:10142396] +[CATransaction synchronize] called within transaction\n",
      "2023-06-11 19:40:36.196 python[5268:10142396] +[CATransaction synchronize] called within transaction\n",
      "Traceback (most recent call last):\n",
      "  File \"/Applications/MNE-Python/.mne-python/lib/python3.10/site-packages/PIL/Image.py\", line 2408, in save\n",
      "    format = EXTENSION[ext]\n",
      "KeyError: ''\n",
      "\n",
      "The above exception was the direct cause of the following exception:\n",
      "\n",
      "Traceback (most recent call last):\n",
      "  File \"/Applications/MNE-Python/.mne-python/lib/python3.10/site-packages/mne/viz/_brain/_brain.py\", line 1215, in save_image\n",
      "    self.save_image(filename)\n",
      "  File \"/Applications/MNE-Python/.mne-python/lib/python3.10/site-packages/mne/viz/_brain/_brain.py\", line 3314, in save_image\n",
      "    _save_ndarray_img(filename, self.screenshot(mode=mode, time_viewer=True))\n",
      "  File \"/Applications/MNE-Python/.mne-python/lib/python3.10/site-packages/mne/viz/utils.py\", line 2763, in _save_ndarray_img\n",
      "    Image.fromarray(img).save(fname)\n",
      "  File \"/Applications/MNE-Python/.mne-python/lib/python3.10/site-packages/PIL/Image.py\", line 2411, in save\n",
      "    raise ValueError(msg) from e\n",
      "ValueError: unknown file extension: \n"
     ]
    }
   ],
   "source": [
    "#plot one cond - the other.\n",
    "kwargs = dict(initial_time=0.25, hemi='both', subjects_dir=subjects_dir,\n",
    "              size=(600, 600), time_viewer=True)\n",
    "brain = stc12.plot(figure=6, **kwargs)\n",
    "brain.add_text(0.1, 0.9, 'dSPM', 'title', font_size=14)\n",
    "#2/2.5/5"
   ]
  },
  {
   "cell_type": "code",
   "execution_count": 11,
   "metadata": {},
   "outputs": [
    {
     "name": "stdout",
     "output_type": "stream",
     "text": [
      "Using control points [3.67921047 4.069619   7.48849966]\n"
     ]
    },
    {
     "name": "stdout",
     "output_type": "stream",
     "text": [
      "Using control points [3.86919655 4.15336672 6.31351304]\n"
     ]
    }
   ],
   "source": [
    "kwargs = dict(initial_time=0.25, hemi='both', subjects_dir=subjects_dir,\n",
    "              size=(600, 600), time_viewer=True)\n",
    "brain = stc13.plot(figure=6, **kwargs)\n",
    "brain.add_text(0.1, 0.9, 'dSPM', 'title', font_size=14)\n",
    "#4.5/5/8"
   ]
  },
  {
   "cell_type": "code",
   "execution_count": 13,
   "metadata": {},
   "outputs": [
    {
     "name": "stdout",
     "output_type": "stream",
     "text": [
      "Using control points [3.70658168 4.07460449 7.10247148]\n"
     ]
    }
   ],
   "source": [
    "kwargs = dict(initial_time=0.25, hemi='both', subjects_dir=subjects_dir,\n",
    "              size=(600, 600), time_viewer=True)\n",
    "brain = stc23.plot(figure=6, **kwargs)\n",
    "brain.add_text(0.1, 0.9, 'dSPM', 'title', font_size=14)\n",
    "#4.5/5/8"
   ]
  }
 ],
 "metadata": {
  "kernelspec": {
   "display_name": "Python 3",
   "language": "python",
   "name": "python3"
  },
  "language_info": {
   "codemirror_mode": {
    "name": "ipython",
    "version": 3
   },
   "file_extension": ".py",
   "mimetype": "text/x-python",
   "name": "python",
   "nbconvert_exporter": "python",
   "pygments_lexer": "ipython3",
   "version": "3.10.10"
  },
  "varInspector": {
   "cols": {
    "lenName": 16,
    "lenType": 16,
    "lenVar": 40
   },
   "kernels_config": {
    "python": {
     "delete_cmd_postfix": "",
     "delete_cmd_prefix": "del ",
     "library": "var_list.py",
     "varRefreshCmd": "print(var_dic_list())"
    },
    "r": {
     "delete_cmd_postfix": ") ",
     "delete_cmd_prefix": "rm(",
     "library": "var_list.r",
     "varRefreshCmd": "cat(var_dic_list()) "
    }
   },
   "types_to_exclude": [
    "module",
    "function",
    "builtin_function_or_method",
    "instance",
    "_Feature"
   ],
   "window_display": false
  }
 },
 "nbformat": 4,
 "nbformat_minor": 4
}
